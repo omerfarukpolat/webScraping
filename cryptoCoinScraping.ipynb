{
 "cells": [
  {
   "cell_type": "code",
   "execution_count": 19,
   "metadata": {
    "collapsed": true
   },
   "outputs": [],
   "source": [
    "#\n",
    "\n",
    "import pandas as pd\n",
    "import numpy as np\n",
    "from bs4 import BeautifulSoup as bs\n",
    "import requests\n",
    "import datetime\n",
    "from progressbar import *\n",
    "from IPython.display import clear_output\n",
    "from urllib3.util import url\n",
    "import re"
   ]
  },
  {
   "cell_type": "code",
   "execution_count": 20,
   "outputs": [],
   "source": [
    "sections = [ \"https://tr.tradingview.com/markets/cryptocurrencies/prices-all/\"]\n",
    "\n",
    "cryptoCoins = []"
   ],
   "metadata": {
    "collapsed": false,
    "pycharm": {
     "name": "#%%\n"
    }
   }
  },
  {
   "cell_type": "code",
   "execution_count": 21,
   "outputs": [
    {
     "data": {
      "text/plain": "            ADI   PYS_DEG TM_PYS_DEG     FIYAT KULLANILABLR_COIN  \\\n0       Bitcoin  366.851B   401.646B  19126.00           19.181M   \n1      Ethereum  156.915B   156.915B   1282.26          122.374M   \n2        Tether   68.405B    70.117B      1.00           68.433B   \n3      USD Coin   45.011B    45.011B      1.00           45.011B   \n4  Binance Coin   43.513B    53.940B    269.70          161.337M   \n\n  TOPLAM_COIN_SAYISI ISLEM_HACMI DEG_YZD  \n0            21.000M     14.956B   0.31%  \n1           122.374M      6.165B   0.58%  \n2            70.146B     24.309B  -0.09%  \n3            45.011B      2.391B   0.01%  \n4           200.000M    501.832M   0.56%  ",
      "text/html": "<div>\n<style scoped>\n    .dataframe tbody tr th:only-of-type {\n        vertical-align: middle;\n    }\n\n    .dataframe tbody tr th {\n        vertical-align: top;\n    }\n\n    .dataframe thead th {\n        text-align: right;\n    }\n</style>\n<table border=\"1\" class=\"dataframe\">\n  <thead>\n    <tr style=\"text-align: right;\">\n      <th></th>\n      <th>ADI</th>\n      <th>PYS_DEG</th>\n      <th>TM_PYS_DEG</th>\n      <th>FIYAT</th>\n      <th>KULLANILABLR_COIN</th>\n      <th>TOPLAM_COIN_SAYISI</th>\n      <th>ISLEM_HACMI</th>\n      <th>DEG_YZD</th>\n    </tr>\n  </thead>\n  <tbody>\n    <tr>\n      <th>0</th>\n      <td>Bitcoin</td>\n      <td>366.851B</td>\n      <td>401.646B</td>\n      <td>19126.00</td>\n      <td>19.181M</td>\n      <td>21.000M</td>\n      <td>14.956B</td>\n      <td>0.31%</td>\n    </tr>\n    <tr>\n      <th>1</th>\n      <td>Ethereum</td>\n      <td>156.915B</td>\n      <td>156.915B</td>\n      <td>1282.26</td>\n      <td>122.374M</td>\n      <td>122.374M</td>\n      <td>6.165B</td>\n      <td>0.58%</td>\n    </tr>\n    <tr>\n      <th>2</th>\n      <td>Tether</td>\n      <td>68.405B</td>\n      <td>70.117B</td>\n      <td>1.00</td>\n      <td>68.433B</td>\n      <td>70.146B</td>\n      <td>24.309B</td>\n      <td>-0.09%</td>\n    </tr>\n    <tr>\n      <th>3</th>\n      <td>USD Coin</td>\n      <td>45.011B</td>\n      <td>45.011B</td>\n      <td>1.00</td>\n      <td>45.011B</td>\n      <td>45.011B</td>\n      <td>2.391B</td>\n      <td>0.01%</td>\n    </tr>\n    <tr>\n      <th>4</th>\n      <td>Binance Coin</td>\n      <td>43.513B</td>\n      <td>53.940B</td>\n      <td>269.70</td>\n      <td>161.337M</td>\n      <td>200.000M</td>\n      <td>501.832M</td>\n      <td>0.56%</td>\n    </tr>\n  </tbody>\n</table>\n</div>"
     },
     "execution_count": 21,
     "metadata": {},
     "output_type": "execute_result"
    }
   ],
   "source": [
    "def GetData(url):\n",
    "    try:\n",
    "        if 'http' in url:\n",
    "            #Url içerisindeki html'i indiriyoruz.\n",
    "            html = requests.get(url).text\n",
    "            soup = bs(html, \"lxml\")\n",
    "            headers = soup.find_all('tr', class_=\"tv-data-table__row tv-data-table__stroke tv-screener-table__result-row\")[0].find_all('th')\n",
    "            rows = soup.find_all('tr', class_=\"tv-data-table__row tv-data-table__stroke tv-screener-table__result-row\")\n",
    "            for row in rows:\n",
    "                rowData = []\n",
    "                data = row.find_all('td')\n",
    "                for i in data:\n",
    "                    string = i.text\n",
    "                    new_string = re.sub(r'\\n', '', string)\n",
    "                    rowData.append(new_string)\n",
    "                cryptoCoins.append(rowData)\n",
    "\n",
    "            # #Body_text adındaki metni tek bir string üzerinde topluyoruz.\n",
    "            # body_text_big = \"\"\n",
    "            # for i in body_text:\n",
    "            #     body_text_big = body_text_big + i.text\n",
    "            #\n",
    "            # #Başlığı ve zamanı'da element isimlerinden bu şekilde seçip, metinlerini alıyoruz.\n",
    "            # header = soup.find(\"h1\", class_=\"entry-title h1\").text\n",
    "            # if soup.find(\"span\", class_=\"updated\"):\n",
    "            #     timestamp = soup.find(\"span\", class_=\"updated\").text\n",
    "            # else:\n",
    "            #     timestamp = '01/01/2016'\n",
    "            #\n",
    "            # #Özetin bulunduğu element'in metin kısmını alıyoruz.\n",
    "            # summarized = \"this is a summary\"\n",
    "            return (cryptoCoins)\n",
    "        else:\n",
    "            return (\"Boş Data\")\n",
    "\n",
    "    #Link boş ise verilen hata üzerine Boş Data mesajını dönüyor.\n",
    "    except IndexError:\n",
    "        return (\"Boş Data\")\n",
    "\n",
    "    #Eğer link haftalık özet ise özet kısmı olmadığından oraya haftalık özet yazıp, sonuçlar o şekilde dönüyor.\n",
    "    except AttributeError:\n",
    "        return (cryptoCoins)\n",
    "\n",
    "bigdata = []\n",
    "k = 0\n",
    "\n",
    "clear_output(wait=True)\n",
    "temp = GetData(\"https://tr.tradingview.com/markets/cryptocurrencies/prices-all/\")\n",
    "bigdata = temp\n",
    "#Verileri DataFrame olarak kaydetme\n",
    "bigdatax = pd.DataFrame(bigdata)\n",
    "bigdatax.columns = [\"ADI\", \"PYS_DEG\", \"TM_PYS_DEG\", \"FIYAT\", \"KULLANILABLR_COIN\", \"TOPLAM_COIN_SAYISI\", \"ISLEM_HACMI\", \"DEG_YZD\"]\n",
    "bigdatax = bigdatax.loc[bigdatax.ADI.drop_duplicates().index]\n",
    "bigdatax.index = range(0, len(bigdatax))\n",
    "bigdatax.head()"
   ],
   "metadata": {
    "collapsed": false,
    "pycharm": {
     "name": "#%%\n"
    }
   }
  },
  {
   "cell_type": "code",
   "execution_count": null,
   "outputs": [],
   "source": [],
   "metadata": {
    "collapsed": false,
    "pycharm": {
     "name": "#%%\n"
    }
   }
  }
 ],
 "metadata": {
  "kernelspec": {
   "display_name": "Python 3",
   "language": "python",
   "name": "python3"
  },
  "language_info": {
   "codemirror_mode": {
    "name": "ipython",
    "version": 2
   },
   "file_extension": ".py",
   "mimetype": "text/x-python",
   "name": "python",
   "nbconvert_exporter": "python",
   "pygments_lexer": "ipython2",
   "version": "2.7.6"
  }
 },
 "nbformat": 4,
 "nbformat_minor": 0
}