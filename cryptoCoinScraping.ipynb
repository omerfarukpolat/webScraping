{
 "cells": [
  {
   "cell_type": "code",
   "execution_count": 4,
   "metadata": {
    "collapsed": true
   },
   "outputs": [],
   "source": [
    "#\n",
    "\n",
    "import pandas as pd\n",
    "import numpy as np\n",
    "from bs4 import BeautifulSoup as bs\n",
    "import requests\n",
    "import datetime\n",
    "from progressbar import *\n",
    "from IPython.display import clear_output\n",
    "from urllib3.util import url\n",
    "import re"
   ]
  },
  {
   "cell_type": "code",
   "execution_count": 5,
   "outputs": [],
   "source": [
    "sections = [\"https://tr.tradingview.com/markets/cryptocurrencies/prices-all/\"]\n",
    "\n",
    "cryptoCoins = []"
   ],
   "metadata": {
    "collapsed": false,
    "pycharm": {
     "name": "#%%\n"
    }
   }
  },
  {
   "cell_type": "code",
   "execution_count": 6,
   "outputs": [
    {
     "data": {
      "text/plain": "            ADI   PYS_DEG TM_PYS_DEG     FIYAT KULLANILABLR_COIN  \\\n0       Bitcoin  409.573B   447.993B  21333.00           19.199M   \n1      Ethereum  200.397B   200.397B   1637.58          122.374M   \n2        Tether   69.440B    72.225B      1.00           69.361B   \n3  Binance Coin   56.200B    70.260B    351.30          159.977M   \n4      USD Coin   42.049B    42.049B      1.00           42.049B   \n\n  TOPLAM_COIN_SAYISI ISLEM_HACMI DEG_YZD  \n0            21.000M     51.340B   0.85%  \n1           122.374M     15.092B  -0.47%  \n2            72.142B     71.487B   0.12%  \n3           200.000M      1.312B  -0.96%  \n4            42.049B      3.381B   0.01%  ",
      "text/html": "<div>\n<style scoped>\n    .dataframe tbody tr th:only-of-type {\n        vertical-align: middle;\n    }\n\n    .dataframe tbody tr th {\n        vertical-align: top;\n    }\n\n    .dataframe thead th {\n        text-align: right;\n    }\n</style>\n<table border=\"1\" class=\"dataframe\">\n  <thead>\n    <tr style=\"text-align: right;\">\n      <th></th>\n      <th>ADI</th>\n      <th>PYS_DEG</th>\n      <th>TM_PYS_DEG</th>\n      <th>FIYAT</th>\n      <th>KULLANILABLR_COIN</th>\n      <th>TOPLAM_COIN_SAYISI</th>\n      <th>ISLEM_HACMI</th>\n      <th>DEG_YZD</th>\n    </tr>\n  </thead>\n  <tbody>\n    <tr>\n      <th>0</th>\n      <td>Bitcoin</td>\n      <td>409.573B</td>\n      <td>447.993B</td>\n      <td>21333.00</td>\n      <td>19.199M</td>\n      <td>21.000M</td>\n      <td>51.340B</td>\n      <td>0.85%</td>\n    </tr>\n    <tr>\n      <th>1</th>\n      <td>Ethereum</td>\n      <td>200.397B</td>\n      <td>200.397B</td>\n      <td>1637.58</td>\n      <td>122.374M</td>\n      <td>122.374M</td>\n      <td>15.092B</td>\n      <td>-0.47%</td>\n    </tr>\n    <tr>\n      <th>2</th>\n      <td>Tether</td>\n      <td>69.440B</td>\n      <td>72.225B</td>\n      <td>1.00</td>\n      <td>69.361B</td>\n      <td>72.142B</td>\n      <td>71.487B</td>\n      <td>0.12%</td>\n    </tr>\n    <tr>\n      <th>3</th>\n      <td>Binance Coin</td>\n      <td>56.200B</td>\n      <td>70.260B</td>\n      <td>351.30</td>\n      <td>159.977M</td>\n      <td>200.000M</td>\n      <td>1.312B</td>\n      <td>-0.96%</td>\n    </tr>\n    <tr>\n      <th>4</th>\n      <td>USD Coin</td>\n      <td>42.049B</td>\n      <td>42.049B</td>\n      <td>1.00</td>\n      <td>42.049B</td>\n      <td>42.049B</td>\n      <td>3.381B</td>\n      <td>0.01%</td>\n    </tr>\n  </tbody>\n</table>\n</div>"
     },
     "execution_count": 6,
     "metadata": {},
     "output_type": "execute_result"
    }
   ],
   "source": [
    "def GetData(url):\n",
    "    try:\n",
    "        if 'http' in url:\n",
    "            html = requests.get(url).text\n",
    "            soup = bs(html, \"lxml\")\n",
    "            headers = soup.find_all('tr', class_=\"tv-data-table__row tv-data-table__stroke tv-screener-table__result-row\")[0].find_all('th')\n",
    "            rows = soup.find_all('tr', class_=\"tv-data-table__row tv-data-table__stroke tv-screener-table__result-row\")\n",
    "            for row in rows:\n",
    "                rowData = []\n",
    "                data = row.find_all('td')\n",
    "                for i in data:\n",
    "                    string = i.text\n",
    "                    new_string = re.sub(r'\\n', '', string)\n",
    "                    rowData.append(new_string)\n",
    "                cryptoCoins.append(rowData)\n",
    "\n",
    "            return (cryptoCoins)\n",
    "        else:\n",
    "            return (\"Boş Data\")\n",
    "\n",
    "    except IndexError:\n",
    "        return (\"Boş Data\")\n",
    "\n",
    "    except AttributeError:\n",
    "        return (cryptoCoins)\n",
    "\n",
    "bigdata = []\n",
    "k = 0\n",
    "\n",
    "clear_output(wait=True)\n",
    "temp = GetData(\"https://tr.tradingview.com/markets/cryptocurrencies/prices-all/\")\n",
    "bigdata = temp\n",
    "bigdatax = pd.DataFrame(bigdata)\n",
    "bigdatax.columns = [\"ADI\", \"PYS_DEG\", \"TM_PYS_DEG\", \"FIYAT\", \"KULLANILABLR_COIN\", \"TOPLAM_COIN_SAYISI\", \"ISLEM_HACMI\", \"DEG_YZD\"]\n",
    "bigdatax = bigdatax.loc[bigdatax.ADI.drop_duplicates().index]\n",
    "bigdatax.index = range(0, len(bigdatax))\n",
    "bigdatax.head()"
   ],
   "metadata": {
    "collapsed": false,
    "pycharm": {
     "name": "#%%\n"
    }
   }
  },
  {
   "cell_type": "code",
   "execution_count": null,
   "outputs": [],
   "source": [],
   "metadata": {
    "collapsed": false,
    "pycharm": {
     "name": "#%%\n"
    }
   }
  }
 ],
 "metadata": {
  "kernelspec": {
   "display_name": "Python 3",
   "language": "python",
   "name": "python3"
  },
  "language_info": {
   "codemirror_mode": {
    "name": "ipython",
    "version": 2
   },
   "file_extension": ".py",
   "mimetype": "text/x-python",
   "name": "python",
   "nbconvert_exporter": "python",
   "pygments_lexer": "ipython2",
   "version": "2.7.6"
  }
 },
 "nbformat": 4,
 "nbformat_minor": 0
}